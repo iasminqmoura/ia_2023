{
  "nbformat": 4,
  "nbformat_minor": 0,
  "metadata": {
    "colab": {
      "provenance": [],
      "authorship_tag": "ABX9TyMIVLq0yxlOcL8Bm07V0idr",
      "include_colab_link": true
    },
    "kernelspec": {
      "name": "python3",
      "display_name": "Python 3"
    },
    "language_info": {
      "name": "python"
    }
  },
  "cells": [
    {
      "cell_type": "markdown",
      "metadata": {
        "id": "view-in-github",
        "colab_type": "text"
      },
      "source": [
        "<a href=\"https://colab.research.google.com/github/iasminqmoura/ia_2023/blob/main/Trabalho_03_preco_casa.ipynb\" target=\"_parent\"><img src=\"https://colab.research.google.com/assets/colab-badge.svg\" alt=\"Open In Colab\"/></a>"
      ]
    },
    {
      "cell_type": "code",
      "execution_count": 9,
      "metadata": {
        "colab": {
          "base_uri": "https://localhost:8080/",
          "height": 327
        },
        "id": "n_yqRwF8jixV",
        "outputId": "0780ce4b-6c10-4e1e-c289-392eca555b62"
      },
      "outputs": [
        {
          "output_type": "stream",
          "name": "stdout",
          "text": [
            "Exemplo do Dataset:\n"
          ]
        },
        {
          "output_type": "display_data",
          "data": {
            "text/plain": [
              "<pandas.io.formats.style.Styler at 0x7a32998dc760>"
            ],
            "text/html": [
              "<style type=\"text/css\">\n",
              "#T_70b44 th {\n",
              "  text-align: left;\n",
              "}\n",
              "#T_70b44_row0_col0, #T_70b44_row0_col1, #T_70b44_row0_col2, #T_70b44_row0_col3, #T_70b44_row0_col4, #T_70b44_row0_col5, #T_70b44_row0_col6, #T_70b44_row1_col0, #T_70b44_row1_col1, #T_70b44_row1_col2, #T_70b44_row1_col3, #T_70b44_row1_col4, #T_70b44_row1_col5, #T_70b44_row1_col6, #T_70b44_row2_col0, #T_70b44_row2_col1, #T_70b44_row2_col2, #T_70b44_row2_col3, #T_70b44_row2_col4, #T_70b44_row2_col5, #T_70b44_row2_col6, #T_70b44_row3_col0, #T_70b44_row3_col1, #T_70b44_row3_col2, #T_70b44_row3_col3, #T_70b44_row3_col4, #T_70b44_row3_col5, #T_70b44_row3_col6, #T_70b44_row4_col0, #T_70b44_row4_col1, #T_70b44_row4_col2, #T_70b44_row4_col3, #T_70b44_row4_col4, #T_70b44_row4_col5, #T_70b44_row4_col6 {\n",
              "  text-align: left;\n",
              "}\n",
              "</style>\n",
              "<table id=\"T_70b44\" class=\"dataframe\">\n",
              "  <thead>\n",
              "    <tr>\n",
              "      <th class=\"blank level0\" >&nbsp;</th>\n",
              "      <th id=\"T_70b44_level0_col0\" class=\"col_heading level0 col0\" >X1 transaction date</th>\n",
              "      <th id=\"T_70b44_level0_col1\" class=\"col_heading level0 col1\" >X2 house age</th>\n",
              "      <th id=\"T_70b44_level0_col2\" class=\"col_heading level0 col2\" >X3 distance to the nearest MRT station</th>\n",
              "      <th id=\"T_70b44_level0_col3\" class=\"col_heading level0 col3\" >X4 number of convenience stores</th>\n",
              "      <th id=\"T_70b44_level0_col4\" class=\"col_heading level0 col4\" >X5 latitude</th>\n",
              "      <th id=\"T_70b44_level0_col5\" class=\"col_heading level0 col5\" >X6 longitude</th>\n",
              "      <th id=\"T_70b44_level0_col6\" class=\"col_heading level0 col6\" >Y house price of unit area</th>\n",
              "    </tr>\n",
              "  </thead>\n",
              "  <tbody>\n",
              "    <tr>\n",
              "      <th id=\"T_70b44_level0_row0\" class=\"row_heading level0 row0\" >0</th>\n",
              "      <td id=\"T_70b44_row0_col0\" class=\"data row0 col0\" >2012.916667</td>\n",
              "      <td id=\"T_70b44_row0_col1\" class=\"data row0 col1\" >32.000000</td>\n",
              "      <td id=\"T_70b44_row0_col2\" class=\"data row0 col2\" >84.878820</td>\n",
              "      <td id=\"T_70b44_row0_col3\" class=\"data row0 col3\" >10</td>\n",
              "      <td id=\"T_70b44_row0_col4\" class=\"data row0 col4\" >24.982980</td>\n",
              "      <td id=\"T_70b44_row0_col5\" class=\"data row0 col5\" >121.540240</td>\n",
              "      <td id=\"T_70b44_row0_col6\" class=\"data row0 col6\" >37.900000</td>\n",
              "    </tr>\n",
              "    <tr>\n",
              "      <th id=\"T_70b44_level0_row1\" class=\"row_heading level0 row1\" >1</th>\n",
              "      <td id=\"T_70b44_row1_col0\" class=\"data row1 col0\" >2012.916667</td>\n",
              "      <td id=\"T_70b44_row1_col1\" class=\"data row1 col1\" >19.500000</td>\n",
              "      <td id=\"T_70b44_row1_col2\" class=\"data row1 col2\" >306.594700</td>\n",
              "      <td id=\"T_70b44_row1_col3\" class=\"data row1 col3\" >9</td>\n",
              "      <td id=\"T_70b44_row1_col4\" class=\"data row1 col4\" >24.980340</td>\n",
              "      <td id=\"T_70b44_row1_col5\" class=\"data row1 col5\" >121.539510</td>\n",
              "      <td id=\"T_70b44_row1_col6\" class=\"data row1 col6\" >42.200000</td>\n",
              "    </tr>\n",
              "    <tr>\n",
              "      <th id=\"T_70b44_level0_row2\" class=\"row_heading level0 row2\" >2</th>\n",
              "      <td id=\"T_70b44_row2_col0\" class=\"data row2 col0\" >2013.583333</td>\n",
              "      <td id=\"T_70b44_row2_col1\" class=\"data row2 col1\" >13.300000</td>\n",
              "      <td id=\"T_70b44_row2_col2\" class=\"data row2 col2\" >561.984500</td>\n",
              "      <td id=\"T_70b44_row2_col3\" class=\"data row2 col3\" >5</td>\n",
              "      <td id=\"T_70b44_row2_col4\" class=\"data row2 col4\" >24.987460</td>\n",
              "      <td id=\"T_70b44_row2_col5\" class=\"data row2 col5\" >121.543910</td>\n",
              "      <td id=\"T_70b44_row2_col6\" class=\"data row2 col6\" >47.300000</td>\n",
              "    </tr>\n",
              "    <tr>\n",
              "      <th id=\"T_70b44_level0_row3\" class=\"row_heading level0 row3\" >3</th>\n",
              "      <td id=\"T_70b44_row3_col0\" class=\"data row3 col0\" >2013.500000</td>\n",
              "      <td id=\"T_70b44_row3_col1\" class=\"data row3 col1\" >13.300000</td>\n",
              "      <td id=\"T_70b44_row3_col2\" class=\"data row3 col2\" >561.984500</td>\n",
              "      <td id=\"T_70b44_row3_col3\" class=\"data row3 col3\" >5</td>\n",
              "      <td id=\"T_70b44_row3_col4\" class=\"data row3 col4\" >24.987460</td>\n",
              "      <td id=\"T_70b44_row3_col5\" class=\"data row3 col5\" >121.543910</td>\n",
              "      <td id=\"T_70b44_row3_col6\" class=\"data row3 col6\" >54.800000</td>\n",
              "    </tr>\n",
              "    <tr>\n",
              "      <th id=\"T_70b44_level0_row4\" class=\"row_heading level0 row4\" >4</th>\n",
              "      <td id=\"T_70b44_row4_col0\" class=\"data row4 col0\" >2012.833333</td>\n",
              "      <td id=\"T_70b44_row4_col1\" class=\"data row4 col1\" >5.000000</td>\n",
              "      <td id=\"T_70b44_row4_col2\" class=\"data row4 col2\" >390.568400</td>\n",
              "      <td id=\"T_70b44_row4_col3\" class=\"data row4 col3\" >5</td>\n",
              "      <td id=\"T_70b44_row4_col4\" class=\"data row4 col4\" >24.979370</td>\n",
              "      <td id=\"T_70b44_row4_col5\" class=\"data row4 col5\" >121.542450</td>\n",
              "      <td id=\"T_70b44_row4_col6\" class=\"data row4 col6\" >43.100000</td>\n",
              "    </tr>\n",
              "  </tbody>\n",
              "</table>\n"
            ]
          },
          "metadata": {}
        },
        {
          "output_type": "stream",
          "name": "stdout",
          "text": [
            "Resultados do Treinamento:\n",
            "Perda (MSE) - Conjunto de Treinamento: 51.302734375\n",
            "Erro Absoluto Médio (MAE) - Conjunto de Treinamento: 5.527039051055908\n",
            "Perda (MSE) - Conjunto de Teste: 51.2835693359375\n",
            "Erro Absoluto Médio (MAE) - Conjunto de Teste: 5.475877285003662\n"
          ]
        }
      ],
      "source": [
        "import pandas as pd\n",
        "from sklearn.model_selection import train_test_split\n",
        "from sklearn.preprocessing import StandardScaler\n",
        "from tensorflow.keras.models import Sequential\n",
        "from tensorflow.keras.layers import Dense\n",
        "\n",
        "dados = pd.read_excel('casa_data.xls')\n",
        "\n",
        "print(\"Exemplo do Dataset:\")\n",
        "display(dados.head().style.set_properties(**{'text-align': 'left'}).set_table_styles([{'selector': 'th', 'props': [('text-align', 'left')]}]))\n",
        "\n",
        "X = dados.drop('Y house price of unit area', axis=1)\n",
        "y = dados['Y house price of unit area']\n",
        "\n",
        "normalizador = StandardScaler()\n",
        "X_normalizado = normalizador.fit_transform(X)\n",
        "\n",
        "X_treino, X_teste, y_treino, y_teste = train_test_split(X_normalizado, y, test_size=0.2, random_state=42)\n",
        "\n",
        "modelo = Sequential([\n",
        "    Dense(64, activation='relu', input_shape=(X_treino.shape[1],)),\n",
        "    Dense(32, activation='relu'),\n",
        "    Dense(1)\n",
        "])\n",
        "\n",
        "modelo.compile(optimizer='adam', loss='mean_squared_error', metrics=['mean_absolute_error'])\n",
        "\n",
        "historico = modelo.fit(X_treino, y_treino, epochs=50, batch_size=32, validation_split=0.1, verbose=0)\n",
        "\n",
        "perda, mae = modelo.evaluate(X_teste, y_teste, verbose=0)\n",
        "\n",
        "print(\"Resultados do Treinamento:\")\n",
        "print(\"Perda (MSE) - Conjunto de Treinamento:\", historico.history['loss'][-1])\n",
        "print(\"Erro Absoluto Médio (MAE) - Conjunto de Treinamento:\", historico.history['mean_absolute_error'][-1])\n",
        "print(\"Perda (MSE) - Conjunto de Teste:\", perda)\n",
        "print(\"Erro Absoluto Médio (MAE) - Conjunto de Teste:\", mae)"
      ]
    }
  ]
}