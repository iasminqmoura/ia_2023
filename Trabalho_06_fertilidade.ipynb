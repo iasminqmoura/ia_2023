{
  "nbformat": 4,
  "nbformat_minor": 0,
  "metadata": {
    "colab": {
      "provenance": [],
      "authorship_tag": "ABX9TyMbas8U1YeioiP/GaEsxpbd",
      "include_colab_link": true
    },
    "kernelspec": {
      "name": "python3",
      "display_name": "Python 3"
    },
    "language_info": {
      "name": "python"
    }
  },
  "cells": [
    {
      "cell_type": "markdown",
      "metadata": {
        "id": "view-in-github",
        "colab_type": "text"
      },
      "source": [
        "<a href=\"https://colab.research.google.com/github/iasminqmoura/ia_2023/blob/main/Trabalho_06_fertilidade.ipynb\" target=\"_parent\"><img src=\"https://colab.research.google.com/assets/colab-badge.svg\" alt=\"Open In Colab\"/></a>"
      ]
    },
    {
      "cell_type": "code",
      "execution_count": 2,
      "metadata": {
        "colab": {
          "base_uri": "https://localhost:8080/"
        },
        "id": "6nFLc7oWt35B",
        "outputId": "54a0ab62-a321-457f-c2a1-76e1eef65376"
      },
      "outputs": [
        {
          "output_type": "stream",
          "name": "stdout",
          "text": [
            "Resultados do Treinamento:\n",
            "  Conjunto     Perda  Precisao (%)\n",
            "0   Treino  0.150933     94.444442\n",
            "1    Teste  0.627882     89.999998\n"
          ]
        }
      ],
      "source": [
        "import pandas as pd\n",
        "from sklearn.model_selection import train_test_split\n",
        "from sklearn.preprocessing import StandardScaler\n",
        "from tensorflow.keras.models import Sequential\n",
        "from tensorflow.keras.layers import Dense\n",
        "import numpy as np\n",
        "\n",
        "nomes_colunas = [\n",
        "    'Estacao', 'Idade', 'Doencas_Infancia', 'Acidente_Trauma',\n",
        "    'Intervencao_Cirurgica', 'Febres_Altas', 'Frequencia_Alcool',\n",
        "    'Habito_Fumar', 'Horas_Sentado', 'Resultado'\n",
        "]\n",
        "dados_fertilidade = pd.read_csv('fertilidade.csv', names=nomes_colunas)\n",
        "\n",
        "normalizador = StandardScaler()\n",
        "X = dados_fertilidade.drop('Resultado', axis=1)\n",
        "X_normalizado = normalizador.fit_transform(X)\n",
        "\n",
        "y = dados_fertilidade['Resultado'].apply(lambda x: 0 if x == 'N' else 1)\n",
        "\n",
        "X_treino, X_teste, y_treino, y_teste = train_test_split(X_normalizado, y, test_size=0.2, random_state=42)\n",
        "\n",
        "modelo = Sequential([\n",
        "    Dense(64, activation='relu', input_shape=(X_treino.shape[1],)),\n",
        "    Dense(32, activation='relu'),\n",
        "    Dense(1, activation='sigmoid')\n",
        "])\n",
        "\n",
        "modelo.compile(optimizer='adam', loss='binary_crossentropy', metrics=['accuracy'])\n",
        "\n",
        "historico = modelo.fit(X_treino, y_treino, epochs=50, batch_size=32, validation_split=0.1, verbose=0)\n",
        "\n",
        "perda, precisao = modelo.evaluate(X_teste, y_teste, verbose=0)\n",
        "\n",
        "resultados = pd.DataFrame({\n",
        "    'Conjunto': ['Treino', 'Teste'],\n",
        "    'Perda': [historico.history['loss'][-1], perda],\n",
        "    'Precisao (%)': [historico.history['accuracy'][-1] * 100, precisao * 100]\n",
        "})\n",
        "\n",
        "print(\"Resultados do Treinamento:\")\n",
        "print(resultados)\n"
      ]
    }
  ]
}