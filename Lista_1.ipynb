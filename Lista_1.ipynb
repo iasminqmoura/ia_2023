{
  "nbformat": 4,
  "nbformat_minor": 0,
  "metadata": {
    "colab": {
      "provenance": [],
      "authorship_tag": "ABX9TyMxAVDhIF7QB9Hcha2aN75V",
      "include_colab_link": true
    },
    "kernelspec": {
      "name": "python3",
      "display_name": "Python 3"
    },
    "language_info": {
      "name": "python"
    }
  },
  "cells": [
    {
      "cell_type": "markdown",
      "metadata": {
        "id": "view-in-github",
        "colab_type": "text"
      },
      "source": [
        "<a href=\"https://colab.research.google.com/github/iasminqmoura/ia_2023/blob/main/Lista_1.ipynb\" target=\"_parent\"><img src=\"https://colab.research.google.com/assets/colab-badge.svg\" alt=\"Open In Colab\"/></a>"
      ]
    },
    {
      "cell_type": "code",
      "execution_count": 8,
      "metadata": {
        "id": "TjL4MIOQI-2s"
      },
      "outputs": [],
      "source": [
        "import pandas as pd\n"
      ]
    },
    {
      "cell_type": "code",
      "source": [
        "# Declare uma variável chamada idade e atribua a ela um valor inteiro\n",
        "idade = 25"
      ],
      "metadata": {
        "id": "w8sABj1oJCDg"
      },
      "execution_count": 9,
      "outputs": []
    },
    {
      "cell_type": "code",
      "source": [
        "# Crie uma variável nome e atribua a ela uma string com o seu nome\n",
        "nome = \"Iasmin\""
      ],
      "metadata": {
        "id": "N5izUebAJFqN"
      },
      "execution_count": 10,
      "outputs": []
    },
    {
      "cell_type": "code",
      "source": [
        "# Calcule o dobro da idade\n",
        "dobro_idade = idade * 2"
      ],
      "metadata": {
        "id": "oz3X0q-FJHFF"
      },
      "execution_count": 11,
      "outputs": []
    },
    {
      "cell_type": "code",
      "source": [
        "# Crie um DataFrame com as informações\n",
        "dados = pd.DataFrame({'Nome': [nome], 'Idade': [idade]})\n"
      ],
      "metadata": {
        "id": "cwBvCoY_JIM2"
      },
      "execution_count": 12,
      "outputs": []
    },
    {
      "cell_type": "code",
      "source": [
        "# Exiba na tela o DataFrame com o nome e o dobro da idade\n",
        "print(dados)"
      ],
      "metadata": {
        "colab": {
          "base_uri": "https://localhost:8080/"
        },
        "id": "qi-pjFYoJTkK",
        "outputId": "438c9ed8-3c7f-429b-a7d7-0d9646e919d8"
      },
      "execution_count": 13,
      "outputs": [
        {
          "output_type": "stream",
          "name": "stdout",
          "text": [
            "     Nome  Idade\n",
            "0  Iasmin     25\n"
          ]
        }
      ]
    }
  ]
}