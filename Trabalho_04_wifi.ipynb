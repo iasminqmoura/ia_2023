{
  "nbformat": 4,
  "nbformat_minor": 0,
  "metadata": {
    "colab": {
      "provenance": [],
      "authorship_tag": "ABX9TyMznDCgm94wxK8emp/mE5ku",
      "include_colab_link": true
    },
    "kernelspec": {
      "name": "python3",
      "display_name": "Python 3"
    },
    "language_info": {
      "name": "python"
    }
  },
  "cells": [
    {
      "cell_type": "markdown",
      "metadata": {
        "id": "view-in-github",
        "colab_type": "text"
      },
      "source": [
        "<a href=\"https://colab.research.google.com/github/iasminqmoura/ia_2023/blob/main/Trabalho_04_wifi.ipynb\" target=\"_parent\"><img src=\"https://colab.research.google.com/assets/colab-badge.svg\" alt=\"Open In Colab\"/></a>"
      ]
    },
    {
      "cell_type": "code",
      "execution_count": 2,
      "metadata": {
        "colab": {
          "base_uri": "https://localhost:8080/",
          "height": 335
        },
        "id": "wz2gH7ueo9d_",
        "outputId": "179b9864-aa64-4a7b-e83a-d9312b022e90"
      },
      "outputs": [
        {
          "output_type": "stream",
          "name": "stdout",
          "text": [
            "Exemplo Dataset:\n"
          ]
        },
        {
          "output_type": "display_data",
          "data": {
            "text/plain": [
              "<pandas.io.formats.style.Styler at 0x7e5b64f6e650>"
            ],
            "text/html": [
              "<style type=\"text/css\">\n",
              "#T_82b4d th {\n",
              "  text-align: left;\n",
              "}\n",
              "#T_82b4d_row0_col0, #T_82b4d_row0_col1, #T_82b4d_row0_col2, #T_82b4d_row0_col3, #T_82b4d_row0_col4, #T_82b4d_row0_col5, #T_82b4d_row0_col6, #T_82b4d_row1_col0, #T_82b4d_row1_col1, #T_82b4d_row1_col2, #T_82b4d_row1_col3, #T_82b4d_row1_col4, #T_82b4d_row1_col5, #T_82b4d_row1_col6, #T_82b4d_row2_col0, #T_82b4d_row2_col1, #T_82b4d_row2_col2, #T_82b4d_row2_col3, #T_82b4d_row2_col4, #T_82b4d_row2_col5, #T_82b4d_row2_col6, #T_82b4d_row3_col0, #T_82b4d_row3_col1, #T_82b4d_row3_col2, #T_82b4d_row3_col3, #T_82b4d_row3_col4, #T_82b4d_row3_col5, #T_82b4d_row3_col6, #T_82b4d_row4_col0, #T_82b4d_row4_col1, #T_82b4d_row4_col2, #T_82b4d_row4_col3, #T_82b4d_row4_col4, #T_82b4d_row4_col5, #T_82b4d_row4_col6 {\n",
              "  text-align: left;\n",
              "}\n",
              "</style>\n",
              "<table id=\"T_82b4d\" class=\"dataframe\">\n",
              "  <thead>\n",
              "    <tr>\n",
              "      <th class=\"blank level0\" >&nbsp;</th>\n",
              "      <th id=\"T_82b4d_level0_col0\" class=\"col_heading level0 col0\" >0</th>\n",
              "      <th id=\"T_82b4d_level0_col1\" class=\"col_heading level0 col1\" >1</th>\n",
              "      <th id=\"T_82b4d_level0_col2\" class=\"col_heading level0 col2\" >2</th>\n",
              "      <th id=\"T_82b4d_level0_col3\" class=\"col_heading level0 col3\" >3</th>\n",
              "      <th id=\"T_82b4d_level0_col4\" class=\"col_heading level0 col4\" >4</th>\n",
              "      <th id=\"T_82b4d_level0_col5\" class=\"col_heading level0 col5\" >5</th>\n",
              "      <th id=\"T_82b4d_level0_col6\" class=\"col_heading level0 col6\" >6</th>\n",
              "    </tr>\n",
              "  </thead>\n",
              "  <tbody>\n",
              "    <tr>\n",
              "      <th id=\"T_82b4d_level0_row0\" class=\"row_heading level0 row0\" >0</th>\n",
              "      <td id=\"T_82b4d_row0_col0\" class=\"data row0 col0\" >-64</td>\n",
              "      <td id=\"T_82b4d_row0_col1\" class=\"data row0 col1\" >-56</td>\n",
              "      <td id=\"T_82b4d_row0_col2\" class=\"data row0 col2\" >-61</td>\n",
              "      <td id=\"T_82b4d_row0_col3\" class=\"data row0 col3\" >-66</td>\n",
              "      <td id=\"T_82b4d_row0_col4\" class=\"data row0 col4\" >-71</td>\n",
              "      <td id=\"T_82b4d_row0_col5\" class=\"data row0 col5\" >-82</td>\n",
              "      <td id=\"T_82b4d_row0_col6\" class=\"data row0 col6\" >-81</td>\n",
              "    </tr>\n",
              "    <tr>\n",
              "      <th id=\"T_82b4d_level0_row1\" class=\"row_heading level0 row1\" >1</th>\n",
              "      <td id=\"T_82b4d_row1_col0\" class=\"data row1 col0\" >-68</td>\n",
              "      <td id=\"T_82b4d_row1_col1\" class=\"data row1 col1\" >-57</td>\n",
              "      <td id=\"T_82b4d_row1_col2\" class=\"data row1 col2\" >-61</td>\n",
              "      <td id=\"T_82b4d_row1_col3\" class=\"data row1 col3\" >-65</td>\n",
              "      <td id=\"T_82b4d_row1_col4\" class=\"data row1 col4\" >-71</td>\n",
              "      <td id=\"T_82b4d_row1_col5\" class=\"data row1 col5\" >-85</td>\n",
              "      <td id=\"T_82b4d_row1_col6\" class=\"data row1 col6\" >-85</td>\n",
              "    </tr>\n",
              "    <tr>\n",
              "      <th id=\"T_82b4d_level0_row2\" class=\"row_heading level0 row2\" >2</th>\n",
              "      <td id=\"T_82b4d_row2_col0\" class=\"data row2 col0\" >-63</td>\n",
              "      <td id=\"T_82b4d_row2_col1\" class=\"data row2 col1\" >-60</td>\n",
              "      <td id=\"T_82b4d_row2_col2\" class=\"data row2 col2\" >-60</td>\n",
              "      <td id=\"T_82b4d_row2_col3\" class=\"data row2 col3\" >-67</td>\n",
              "      <td id=\"T_82b4d_row2_col4\" class=\"data row2 col4\" >-76</td>\n",
              "      <td id=\"T_82b4d_row2_col5\" class=\"data row2 col5\" >-85</td>\n",
              "      <td id=\"T_82b4d_row2_col6\" class=\"data row2 col6\" >-84</td>\n",
              "    </tr>\n",
              "    <tr>\n",
              "      <th id=\"T_82b4d_level0_row3\" class=\"row_heading level0 row3\" >3</th>\n",
              "      <td id=\"T_82b4d_row3_col0\" class=\"data row3 col0\" >-61</td>\n",
              "      <td id=\"T_82b4d_row3_col1\" class=\"data row3 col1\" >-60</td>\n",
              "      <td id=\"T_82b4d_row3_col2\" class=\"data row3 col2\" >-68</td>\n",
              "      <td id=\"T_82b4d_row3_col3\" class=\"data row3 col3\" >-62</td>\n",
              "      <td id=\"T_82b4d_row3_col4\" class=\"data row3 col4\" >-77</td>\n",
              "      <td id=\"T_82b4d_row3_col5\" class=\"data row3 col5\" >-90</td>\n",
              "      <td id=\"T_82b4d_row3_col6\" class=\"data row3 col6\" >-80</td>\n",
              "    </tr>\n",
              "    <tr>\n",
              "      <th id=\"T_82b4d_level0_row4\" class=\"row_heading level0 row4\" >4</th>\n",
              "      <td id=\"T_82b4d_row4_col0\" class=\"data row4 col0\" >-63</td>\n",
              "      <td id=\"T_82b4d_row4_col1\" class=\"data row4 col1\" >-65</td>\n",
              "      <td id=\"T_82b4d_row4_col2\" class=\"data row4 col2\" >-60</td>\n",
              "      <td id=\"T_82b4d_row4_col3\" class=\"data row4 col3\" >-63</td>\n",
              "      <td id=\"T_82b4d_row4_col4\" class=\"data row4 col4\" >-77</td>\n",
              "      <td id=\"T_82b4d_row4_col5\" class=\"data row4 col5\" >-81</td>\n",
              "      <td id=\"T_82b4d_row4_col6\" class=\"data row4 col6\" >-87</td>\n",
              "    </tr>\n",
              "  </tbody>\n",
              "</table>\n"
            ]
          },
          "metadata": {}
        },
        {
          "output_type": "stream",
          "name": "stdout",
          "text": [
            "Treinamento:\n"
          ]
        },
        {
          "output_type": "display_data",
          "data": {
            "text/plain": [
              "<pandas.io.formats.style.Styler at 0x7e5b64eee1d0>"
            ],
            "text/html": [
              "<style type=\"text/css\">\n",
              "#T_f755e th {\n",
              "  text-align: left;\n",
              "}\n",
              "#T_f755e_row0_col0, #T_f755e_row0_col1, #T_f755e_row0_col2, #T_f755e_row1_col0, #T_f755e_row1_col1, #T_f755e_row1_col2 {\n",
              "  text-align: left;\n",
              "}\n",
              "</style>\n",
              "<table id=\"T_f755e\" class=\"dataframe\">\n",
              "  <thead>\n",
              "    <tr>\n",
              "      <th class=\"blank level0\" >&nbsp;</th>\n",
              "      <th id=\"T_f755e_level0_col0\" class=\"col_heading level0 col0\" >Conjunto</th>\n",
              "      <th id=\"T_f755e_level0_col1\" class=\"col_heading level0 col1\" >Perda</th>\n",
              "      <th id=\"T_f755e_level0_col2\" class=\"col_heading level0 col2\" >Precisao (%)</th>\n",
              "    </tr>\n",
              "  </thead>\n",
              "  <tbody>\n",
              "    <tr>\n",
              "      <th id=\"T_f755e_level0_row0\" class=\"row_heading level0 row0\" >0</th>\n",
              "      <td id=\"T_f755e_row0_col0\" class=\"data row0 col0\" >Treino</td>\n",
              "      <td id=\"T_f755e_row0_col1\" class=\"data row0 col1\" >0.016118</td>\n",
              "      <td id=\"T_f755e_row0_col2\" class=\"data row0 col2\" >99.236113</td>\n",
              "    </tr>\n",
              "    <tr>\n",
              "      <th id=\"T_f755e_level0_row1\" class=\"row_heading level0 row1\" >1</th>\n",
              "      <td id=\"T_f755e_row1_col0\" class=\"data row1 col0\" >Teste</td>\n",
              "      <td id=\"T_f755e_row1_col1\" class=\"data row1 col1\" >0.049973</td>\n",
              "      <td id=\"T_f755e_row1_col2\" class=\"data row1 col2\" >98.250002</td>\n",
              "    </tr>\n",
              "  </tbody>\n",
              "</table>\n"
            ]
          },
          "metadata": {}
        }
      ],
      "source": [
        "import pandas as pd\n",
        "import numpy as np\n",
        "from sklearn.model_selection import train_test_split\n",
        "from sklearn.preprocessing import StandardScaler, LabelEncoder\n",
        "from tensorflow.keras.models import Sequential\n",
        "from tensorflow.keras.layers import Dense\n",
        "from tensorflow.keras.utils import to_categorical\n",
        "\n",
        "dados_wifi = pd.read_csv('wifi.csv', header=None, delimiter='\\t')\n",
        "\n",
        "X_wifi = dados_wifi.iloc[:, :-1]\n",
        "y_wifi = dados_wifi.iloc[:, -1]\n",
        "\n",
        "if X_wifi.shape[0] > 0:\n",
        "    X_treino, X_teste, y_treino, y_teste = train_test_split(X_wifi, y_wifi, test_size=0.2, random_state=42)\n",
        "\n",
        "    normalizador = StandardScaler()\n",
        "    X_treino_normalizado = normalizador.fit_transform(X_treino)\n",
        "    X_teste_normalizado = normalizador.transform(X_teste)\n",
        "\n",
        "    encoder = LabelEncoder()\n",
        "    y_treino_codificado = encoder.fit_transform(y_treino)\n",
        "    y_teste_codificado = encoder.transform(y_teste)\n",
        "\n",
        "    n_classes = len(encoder.classes_)\n",
        "    y_treino_encoded = to_categorical(y_treino_codificado, num_classes=n_classes)\n",
        "    y_teste_encoded = to_categorical(y_teste_codificado, num_classes=n_classes)\n",
        "\n",
        "    modelo = Sequential([\n",
        "        Dense(64, activation='relu', input_shape=(X_treino_normalizado.shape[1],)),\n",
        "        Dense(32, activation='relu'),\n",
        "        Dense(n_classes, activation='softmax')\n",
        "    ])\n",
        "\n",
        "    modelo.compile(optimizer='adam', loss='categorical_crossentropy', metrics=['accuracy'])\n",
        "\n",
        "    historico = modelo.fit(X_treino_normalizado, y_treino_encoded, epochs=50, batch_size=32, validation_split=0.1, verbose=0)\n",
        "\n",
        "    perda, precisao = modelo.evaluate(X_teste_normalizado, y_teste_encoded, verbose=0)\n",
        "\n",
        "    print(\"Exemplo Dataset:\")\n",
        "    display(X_wifi.head().style.set_properties(**{'text-align': 'left'}).set_table_styles([{'selector': 'th', 'props': [('text-align', 'left')]}]))\n",
        "\n",
        "    resultados = pd.DataFrame({\n",
        "        'Conjunto': ['Treino', 'Teste'],\n",
        "        'Perda': [historico.history['loss'][-1], perda],\n",
        "        'Precisao (%)': [historico.history['accuracy'][-1] * 100, precisao * 100]\n",
        "    })\n",
        "    print(\"Treinamento:\")\n",
        "    display(resultados.style.set_properties(**{'text-align': 'left'}).set_table_styles([{'selector': 'th', 'props': [('text-align', 'left')]}]))\n",
        "else:\n",
        "    print(\"O conjunto de treinamento está vazio.\")\n"
      ]
    }
  ]
}