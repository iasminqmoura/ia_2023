{
  "nbformat": 4,
  "nbformat_minor": 0,
  "metadata": {
    "colab": {
      "provenance": [],
      "authorship_tag": "ABX9TyOz+xvUbT8OIatv/LHm+Sjk",
      "include_colab_link": true
    },
    "kernelspec": {
      "name": "python3",
      "display_name": "Python 3"
    },
    "language_info": {
      "name": "python"
    }
  },
  "cells": [
    {
      "cell_type": "markdown",
      "metadata": {
        "id": "view-in-github",
        "colab_type": "text"
      },
      "source": [
        "<a href=\"https://colab.research.google.com/github/iasminqmoura/ia_2023/blob/main/Lista_2.ipynb\" target=\"_parent\"><img src=\"https://colab.research.google.com/assets/colab-badge.svg\" alt=\"Open In Colab\"/></a>"
      ]
    },
    {
      "cell_type": "code",
      "execution_count": 2,
      "metadata": {
        "colab": {
          "base_uri": "https://localhost:8080/"
        },
        "id": "MNGsn5BuJrqA",
        "outputId": "03c18433-6bdb-4f1c-f6c9-12ebba92702a"
      },
      "outputs": [
        {
          "output_type": "stream",
          "name": "stdout",
          "text": [
            "Primeiras linhas do DataFrame:\n",
            "   Duration  Pulse  Maxpulse  Calories\n",
            "0        60    110       130     409.1\n",
            "1        60    117       145     479.0\n",
            "2        60    103       135     340.0\n",
            "3        45    109       175     282.4\n",
            "4        45    117       148     406.0\n",
            "\n",
            "Últimas linhas do DataFrame:\n",
            "     Duration  Pulse  Maxpulse  Calories\n",
            "164        60    105       140     290.8\n",
            "165        60    110       145     300.0\n",
            "166        60    115       145     310.2\n",
            "167        75    120       150     320.4\n",
            "168        75    125       150     330.4\n",
            "\n",
            "Informações sobre o DataFrame:\n",
            "<class 'pandas.core.frame.DataFrame'>\n",
            "RangeIndex: 169 entries, 0 to 168\n",
            "Data columns (total 4 columns):\n",
            " #   Column    Non-Null Count  Dtype  \n",
            "---  ------    --------------  -----  \n",
            " 0   Duration  169 non-null    int64  \n",
            " 1   Pulse     169 non-null    int64  \n",
            " 2   Maxpulse  169 non-null    int64  \n",
            " 3   Calories  164 non-null    float64\n",
            "dtypes: float64(1), int64(3)\n",
            "memory usage: 5.4 KB\n",
            "None\n",
            "\n",
            "Matriz de correlação entre as colunas numéricas:\n",
            "          Duration     Pulse  Maxpulse  Calories\n",
            "Duration  1.000000 -0.155408  0.009403  0.922717\n",
            "Pulse    -0.155408  1.000000  0.786535  0.025121\n",
            "Maxpulse  0.009403  0.786535  1.000000  0.203813\n",
            "Calories  0.922717  0.025121  0.203813  1.000000\n"
          ]
        }
      ],
      "source": [
        "import pandas as pd\n",
        "\n",
        "df = pd.read_csv('data.csv')\n",
        "\n",
        "print(\"Primeiras linhas do DataFrame:\")\n",
        "print(df.head())\n",
        "\n",
        "print(\"\\nÚltimas linhas do DataFrame:\")\n",
        "print(df.tail())\n",
        "\n",
        "print(\"\\nInformações sobre o DataFrame:\")\n",
        "print(df.info())\n",
        "\n",
        "print(\"\\nMatriz de correlação entre as colunas numéricas:\")\n",
        "print(df.corr())\n",
        "\n",
        "df = df.dropna()"
      ]
    }
  ]
}